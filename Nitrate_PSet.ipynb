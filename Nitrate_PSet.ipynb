{
 "cells": [
  {
   "cell_type": "code",
   "execution_count": 88,
   "metadata": {},
   "outputs": [],
   "source": [
    "%matplotlib inline\n",
    "\n",
    "import matplotlib.pyplot as plt\n",
    "import numpy as np\n",
    "import pandas as pd"
   ]
  },
  {
   "cell_type": "code",
   "execution_count": 5,
   "metadata": {},
   "outputs": [
    {
     "data": {
      "text/html": [
       "<div>\n",
       "<style scoped>\n",
       "    .dataframe tbody tr th:only-of-type {\n",
       "        vertical-align: middle;\n",
       "    }\n",
       "\n",
       "    .dataframe tbody tr th {\n",
       "        vertical-align: top;\n",
       "    }\n",
       "\n",
       "    .dataframe thead th {\n",
       "        text-align: right;\n",
       "    }\n",
       "</style>\n",
       "<table border=\"1\" class=\"dataframe\">\n",
       "  <thead>\n",
       "    <tr style=\"text-align: right;\">\n",
       "      <th></th>\n",
       "      <th>Unnamed: 0</th>\n",
       "      <th>theta</th>\n",
       "      <th>sal</th>\n",
       "      <th>depth</th>\n",
       "      <th>nitrate</th>\n",
       "      <th>lon</th>\n",
       "      <th>lat</th>\n",
       "      <th>date</th>\n",
       "      <th>year</th>\n",
       "      <th>month</th>\n",
       "      <th>day</th>\n",
       "      <th>profile</th>\n",
       "      <th>cruise</th>\n",
       "      <th>vessel</th>\n",
       "      <th>density</th>\n",
       "    </tr>\n",
       "  </thead>\n",
       "  <tbody>\n",
       "    <tr>\n",
       "      <td>0</td>\n",
       "      <td>0</td>\n",
       "      <td>25.8807</td>\n",
       "      <td>34.0215</td>\n",
       "      <td>0</td>\n",
       "      <td>0.09</td>\n",
       "      <td>140.242833</td>\n",
       "      <td>34.926167</td>\n",
       "      <td>2010/10/03</td>\n",
       "      <td>2010.0</td>\n",
       "      <td>10.0</td>\n",
       "      <td>3.0</td>\n",
       "      <td>1.0</td>\n",
       "      <td>10-07</td>\n",
       "      <td>R/V Keifu Maru</td>\n",
       "      <td>22.228287</td>\n",
       "    </tr>\n",
       "    <tr>\n",
       "      <td>1</td>\n",
       "      <td>1</td>\n",
       "      <td>25.8993</td>\n",
       "      <td>34.0217</td>\n",
       "      <td>13</td>\n",
       "      <td>0.00</td>\n",
       "      <td>140.242833</td>\n",
       "      <td>34.926167</td>\n",
       "      <td>2010/10/03</td>\n",
       "      <td>2010.0</td>\n",
       "      <td>10.0</td>\n",
       "      <td>3.0</td>\n",
       "      <td>1.0</td>\n",
       "      <td>10-07</td>\n",
       "      <td>R/V Keifu Maru</td>\n",
       "      <td>22.222695</td>\n",
       "    </tr>\n",
       "    <tr>\n",
       "      <td>2</td>\n",
       "      <td>2</td>\n",
       "      <td>25.8843</td>\n",
       "      <td>34.0196</td>\n",
       "      <td>27</td>\n",
       "      <td>0.00</td>\n",
       "      <td>140.242833</td>\n",
       "      <td>34.926167</td>\n",
       "      <td>2010/10/03</td>\n",
       "      <td>2010.0</td>\n",
       "      <td>10.0</td>\n",
       "      <td>3.0</td>\n",
       "      <td>1.0</td>\n",
       "      <td>10-07</td>\n",
       "      <td>R/V Keifu Maru</td>\n",
       "      <td>22.225773</td>\n",
       "    </tr>\n",
       "    <tr>\n",
       "      <td>3</td>\n",
       "      <td>3</td>\n",
       "      <td>25.9894</td>\n",
       "      <td>34.2936</td>\n",
       "      <td>51</td>\n",
       "      <td>0.48</td>\n",
       "      <td>140.242833</td>\n",
       "      <td>34.926167</td>\n",
       "      <td>2010/10/03</td>\n",
       "      <td>2010.0</td>\n",
       "      <td>10.0</td>\n",
       "      <td>3.0</td>\n",
       "      <td>1.0</td>\n",
       "      <td>10-07</td>\n",
       "      <td>R/V Keifu Maru</td>\n",
       "      <td>22.395633</td>\n",
       "    </tr>\n",
       "    <tr>\n",
       "      <td>4</td>\n",
       "      <td>4</td>\n",
       "      <td>23.6146</td>\n",
       "      <td>34.5002</td>\n",
       "      <td>75</td>\n",
       "      <td>2.71</td>\n",
       "      <td>140.242833</td>\n",
       "      <td>34.926167</td>\n",
       "      <td>2010/10/03</td>\n",
       "      <td>2010.0</td>\n",
       "      <td>10.0</td>\n",
       "      <td>3.0</td>\n",
       "      <td>1.0</td>\n",
       "      <td>10-07</td>\n",
       "      <td>R/V Keifu Maru</td>\n",
       "      <td>23.263277</td>\n",
       "    </tr>\n",
       "    <tr>\n",
       "      <td>...</td>\n",
       "      <td>...</td>\n",
       "      <td>...</td>\n",
       "      <td>...</td>\n",
       "      <td>...</td>\n",
       "      <td>...</td>\n",
       "      <td>...</td>\n",
       "      <td>...</td>\n",
       "      <td>...</td>\n",
       "      <td>...</td>\n",
       "      <td>...</td>\n",
       "      <td>...</td>\n",
       "      <td>...</td>\n",
       "      <td>...</td>\n",
       "      <td>...</td>\n",
       "      <td>...</td>\n",
       "    </tr>\n",
       "    <tr>\n",
       "      <td>16216</td>\n",
       "      <td>16216</td>\n",
       "      <td>2.3991</td>\n",
       "      <td>34.4053</td>\n",
       "      <td>1204</td>\n",
       "      <td>42.96</td>\n",
       "      <td>145.709167</td>\n",
       "      <td>42.662500</td>\n",
       "      <td>2016/05/11</td>\n",
       "      <td>2016.0</td>\n",
       "      <td>5.0</td>\n",
       "      <td>11.0</td>\n",
       "      <td>529.0</td>\n",
       "      <td>16-04</td>\n",
       "      <td>R/V Ryofu Maru</td>\n",
       "      <td>27.334433</td>\n",
       "    </tr>\n",
       "    <tr>\n",
       "      <td>16217</td>\n",
       "      <td>16217</td>\n",
       "      <td>2.2752</td>\n",
       "      <td>34.4674</td>\n",
       "      <td>1403</td>\n",
       "      <td>42.88</td>\n",
       "      <td>145.709167</td>\n",
       "      <td>42.662500</td>\n",
       "      <td>2016/05/11</td>\n",
       "      <td>2016.0</td>\n",
       "      <td>5.0</td>\n",
       "      <td>11.0</td>\n",
       "      <td>529.0</td>\n",
       "      <td>16-04</td>\n",
       "      <td>R/V Ryofu Maru</td>\n",
       "      <td>27.394058</td>\n",
       "    </tr>\n",
       "    <tr>\n",
       "      <td>16218</td>\n",
       "      <td>16218</td>\n",
       "      <td>2.0916</td>\n",
       "      <td>34.5120</td>\n",
       "      <td>1602</td>\n",
       "      <td>42.20</td>\n",
       "      <td>145.709167</td>\n",
       "      <td>42.662500</td>\n",
       "      <td>2016/05/11</td>\n",
       "      <td>2016.0</td>\n",
       "      <td>5.0</td>\n",
       "      <td>11.0</td>\n",
       "      <td>529.0</td>\n",
       "      <td>16-04</td>\n",
       "      <td>R/V Ryofu Maru</td>\n",
       "      <td>27.444383</td>\n",
       "    </tr>\n",
       "    <tr>\n",
       "      <td>16219</td>\n",
       "      <td>16219</td>\n",
       "      <td>1.9582</td>\n",
       "      <td>34.5527</td>\n",
       "      <td>1801</td>\n",
       "      <td>41.73</td>\n",
       "      <td>145.709167</td>\n",
       "      <td>42.662500</td>\n",
       "      <td>2016/05/11</td>\n",
       "      <td>2016.0</td>\n",
       "      <td>5.0</td>\n",
       "      <td>11.0</td>\n",
       "      <td>529.0</td>\n",
       "      <td>16-04</td>\n",
       "      <td>R/V Ryofu Maru</td>\n",
       "      <td>27.487322</td>\n",
       "    </tr>\n",
       "    <tr>\n",
       "      <td>16220</td>\n",
       "      <td>16220</td>\n",
       "      <td>1.7914</td>\n",
       "      <td>34.5919</td>\n",
       "      <td>2002</td>\n",
       "      <td>40.96</td>\n",
       "      <td>145.709167</td>\n",
       "      <td>42.662500</td>\n",
       "      <td>2016/05/11</td>\n",
       "      <td>2016.0</td>\n",
       "      <td>5.0</td>\n",
       "      <td>11.0</td>\n",
       "      <td>529.0</td>\n",
       "      <td>16-04</td>\n",
       "      <td>R/V Ryofu Maru</td>\n",
       "      <td>27.531422</td>\n",
       "    </tr>\n",
       "  </tbody>\n",
       "</table>\n",
       "<p>16221 rows × 15 columns</p>\n",
       "</div>"
      ],
      "text/plain": [
       "       Unnamed: 0    theta      sal  depth  nitrate         lon        lat  \\\n",
       "0               0  25.8807  34.0215      0     0.09  140.242833  34.926167   \n",
       "1               1  25.8993  34.0217     13     0.00  140.242833  34.926167   \n",
       "2               2  25.8843  34.0196     27     0.00  140.242833  34.926167   \n",
       "3               3  25.9894  34.2936     51     0.48  140.242833  34.926167   \n",
       "4               4  23.6146  34.5002     75     2.71  140.242833  34.926167   \n",
       "...           ...      ...      ...    ...      ...         ...        ...   \n",
       "16216       16216   2.3991  34.4053   1204    42.96  145.709167  42.662500   \n",
       "16217       16217   2.2752  34.4674   1403    42.88  145.709167  42.662500   \n",
       "16218       16218   2.0916  34.5120   1602    42.20  145.709167  42.662500   \n",
       "16219       16219   1.9582  34.5527   1801    41.73  145.709167  42.662500   \n",
       "16220       16220   1.7914  34.5919   2002    40.96  145.709167  42.662500   \n",
       "\n",
       "              date    year  month   day  profile  cruise           vessel  \\\n",
       "0       2010/10/03  2010.0   10.0   3.0      1.0   10-07   R/V Keifu Maru   \n",
       "1       2010/10/03  2010.0   10.0   3.0      1.0   10-07   R/V Keifu Maru   \n",
       "2       2010/10/03  2010.0   10.0   3.0      1.0   10-07   R/V Keifu Maru   \n",
       "3       2010/10/03  2010.0   10.0   3.0      1.0   10-07   R/V Keifu Maru   \n",
       "4       2010/10/03  2010.0   10.0   3.0      1.0   10-07   R/V Keifu Maru   \n",
       "...            ...     ...    ...   ...      ...     ...              ...   \n",
       "16216   2016/05/11  2016.0    5.0  11.0    529.0   16-04   R/V Ryofu Maru   \n",
       "16217   2016/05/11  2016.0    5.0  11.0    529.0   16-04   R/V Ryofu Maru   \n",
       "16218   2016/05/11  2016.0    5.0  11.0    529.0   16-04   R/V Ryofu Maru   \n",
       "16219   2016/05/11  2016.0    5.0  11.0    529.0   16-04   R/V Ryofu Maru   \n",
       "16220   2016/05/11  2016.0    5.0  11.0    529.0   16-04   R/V Ryofu Maru   \n",
       "\n",
       "         density  \n",
       "0      22.228287  \n",
       "1      22.222695  \n",
       "2      22.225773  \n",
       "3      22.395633  \n",
       "4      23.263277  \n",
       "...          ...  \n",
       "16216  27.334433  \n",
       "16217  27.394058  \n",
       "16218  27.444383  \n",
       "16219  27.487322  \n",
       "16220  27.531422  \n",
       "\n",
       "[16221 rows x 15 columns]"
      ]
     },
     "execution_count": 5,
     "metadata": {},
     "output_type": "execute_result"
    }
   ],
   "source": [
    "infile = 'jma_nitrate.csv'\n",
    "data = pd.read_csv(infile, sep = (','))\n",
    "\n",
    "#Let's take a look at the data.\n",
    "data"
   ]
  },
  {
   "cell_type": "code",
   "execution_count": 6,
   "metadata": {},
   "outputs": [
    {
     "data": {
      "text/plain": [
       "Text(0, 0.5, 'Depth (m)')"
      ]
     },
     "execution_count": 6,
     "metadata": {},
     "output_type": "execute_result"
    },
    {
     "data": {
      "image/png": "[encoded data removed]",
      "text/plain": [
       "<Figure size 432x288 with 1 Axes>"
      ]
     },
     "metadata": {
      "needs_background": "light"
     },
     "output_type": "display_data"
    }
   ],
   "source": [
    "# Let's plot the nitrate data just to visualize what we have.\n",
    "plt.scatter(data.nitrate,data.depth)\n",
    "plt.gca().invert_yaxis()\n",
    "plt.title('Nitrate vs. Depth')\n",
    "plt.xlabel('Nitrate (uMOL/KG)')\n",
    "plt.ylabel('Depth (m)')"
   ]
  },
  {
   "cell_type": "markdown",
   "metadata": {},
   "source": [
    "# The raw jma data appear to have some nitrate values at -999, representing either no data or bad data. These have to be removed before we can continue."
   ]
  },
  {
   "cell_type": "code",
   "execution_count": 7,
   "metadata": {},
   "outputs": [
    {
     "data": {
      "text/plain": [
       "Text(0, 0.5, 'Depth (m)')"
      ]
     },
     "execution_count": 7,
     "metadata": {},
     "output_type": "execute_result"
    },
    {
     "data": {
      "image/png": "[encoded data removed]",
      "text/plain": [
       "<Figure size 432x288 with 1 Axes>"
      ]
     },
     "metadata": {
      "needs_background": "light"
     },
     "output_type": "display_data"
    }
   ],
   "source": [
    "# Looks like there are -999 values to indicate no samples or bad samples. Let's take those out.\n",
    "corr_data = data[data.nitrate>0]\n",
    "plt.scatter(corr_data.nitrate,corr_data.depth)\n",
    "plt.gca().invert_yaxis()\n",
    "plt.title('Nitrate vs. Depth')\n",
    "plt.xlabel('Nitrate (uMOL/KG)')\n",
    "plt.ylabel('Depth (m)')"
   ]
  },
  {
   "cell_type": "markdown",
   "metadata": {},
   "source": [
    "# This looks a lot better. We not have a nice depth profile of nitrate values, excluding the erroneous -999 values."
   ]
  },
  {
   "cell_type": "code",
   "execution_count": 8,
   "metadata": {},
   "outputs": [
    {
     "data": {
      "text/plain": [
       "Text(0, 0.5, 'Latitude')"
      ]
     },
     "execution_count": 8,
     "metadata": {},
     "output_type": "execute_result"
    },
    {
     "data": {
      "image/png": "[encoded data removed]",
      "text/plain": [
       "<Figure size 432x288 with 1 Axes>"
      ]
     },
     "metadata": {
      "needs_background": "light"
     },
     "output_type": "display_data"
    }
   ],
   "source": [
    "# Let's see where the good samples came from.\n",
    "plt.scatter(corr_data.lon,corr_data.lat)\n",
    "plt.title('Sample Locations')\n",
    "plt.xlabel('Longitude')\n",
    "plt.ylabel('Latitude')"
   ]
  },
  {
   "cell_type": "markdown",
   "metadata": {},
   "source": [
    "# The scatter plot above indicates these samples were likely taken from multiple cruises. "
   ]
  },
  {
   "cell_type": "code",
   "execution_count": 2,
   "metadata": {},
   "outputs": [],
   "source": [
    "# Set the limits for the data we use to train the model. Set by coorinate range and year.\n",
    "#train_data = corr_data[(corr_data.lon>165)&(corr_data.lon<165.9)&(corr_data.lat>0)&(corr_data.lat<41)&(corr_data.year == 2011.0)]  \n"
   ]
  },
  {
   "cell_type": "code",
   "execution_count": 1,
   "metadata": {},
   "outputs": [],
   "source": [
    "# Take a look at the cruise data\n",
    "#train_data"
   ]
  },
  {
   "cell_type": "code",
   "execution_count": 9,
   "metadata": {},
   "outputs": [
    {
     "name": "stdout",
     "output_type": "stream",
     "text": [
      "(15574, 2)\n",
      "(15574, 1)\n"
     ]
    }
   ],
   "source": [
    "# Now let's set the variables we want to use to train the model to estimate nitrate values.\n",
    "X = corr_data[[\"sal\",\"theta\"]]\n",
    "y = corr_data[[\"nitrate\"]]\n",
    "\n",
    "print(np.shape(X))\n",
    "print(np.shape(y))"
   ]
  },
  {
   "cell_type": "code",
   "execution_count": 10,
   "metadata": {},
   "outputs": [],
   "source": [
    "# Now we split the data into training and testing data\n",
    "from sklearn.model_selection import train_test_split\n",
    "\n",
    "X_train,X_test,y_train,y_test = train_test_split(X,y,test_size=0.2,random_state=4)"
   ]
  },
  {
   "cell_type": "code",
   "execution_count": 11,
   "metadata": {},
   "outputs": [
    {
     "name": "stdout",
     "output_type": "stream",
     "text": [
      "Neighbors = 1\n",
      "\n",
      "Training R^2 score: 1.00\n",
      "\n",
      "Testing R^2 score: 1.00\n",
      "\n",
      "RMSE = 2.60583634978522 \n",
      "\n",
      "Neighbors = 2\n",
      "\n",
      "Training R^2 score: 0.99\n",
      "\n",
      "Testing R^2 score: 1.00\n",
      "\n",
      "RMSE = 2.430275808548893 \n",
      "\n",
      "Neighbors = 3\n",
      "\n",
      "Training R^2 score: 0.99\n",
      "\n",
      "Testing R^2 score: 1.00\n",
      "\n",
      "RMSE = 2.3205526446134184 \n",
      "\n",
      "Neighbors = 4\n",
      "\n",
      "Training R^2 score: 0.99\n",
      "\n",
      "Testing R^2 score: 1.00\n",
      "\n",
      "RMSE = 2.29476945681954 \n",
      "\n",
      "Neighbors = 5\n",
      "\n",
      "Training R^2 score: 0.99\n",
      "\n",
      "Testing R^2 score: 1.00\n",
      "\n",
      "RMSE = 2.2658388929764093 \n",
      "\n",
      "Neighbors = 6\n",
      "\n",
      "Training R^2 score: 0.99\n",
      "\n",
      "Testing R^2 score: 1.00\n",
      "\n",
      "RMSE = 2.2178488083952663 \n",
      "\n",
      "Neighbors = 7\n",
      "\n",
      "Training R^2 score: 0.98\n",
      "\n",
      "Testing R^2 score: 1.00\n",
      "\n",
      "RMSE = 2.2136395187022755 \n",
      "\n",
      "Neighbors = 8\n",
      "\n",
      "Training R^2 score: 0.98\n",
      "\n",
      "Testing R^2 score: 1.00\n",
      "\n",
      "RMSE = 2.195321052711501 \n",
      "\n",
      "Neighbors = 9\n",
      "\n",
      "Training R^2 score: 0.98\n",
      "\n",
      "Testing R^2 score: 1.00\n",
      "\n",
      "RMSE = 2.202207981381956 \n",
      "\n",
      "Neighbors = 10\n",
      "\n",
      "Training R^2 score: 0.98\n",
      "\n",
      "Testing R^2 score: 1.00\n",
      "\n",
      "RMSE = 2.193945235631519 \n",
      "\n",
      "Neighbors = 11\n",
      "\n",
      "Training R^2 score: 0.98\n",
      "\n",
      "Testing R^2 score: 1.00\n",
      "\n",
      "RMSE = 2.2023381911846984 \n",
      "\n",
      "Neighbors = 12\n",
      "\n",
      "Training R^2 score: 0.98\n",
      "\n",
      "Testing R^2 score: 1.00\n",
      "\n",
      "RMSE = 2.2144188702649625 \n",
      "\n",
      "Neighbors = 13\n",
      "\n",
      "Training R^2 score: 0.98\n",
      "\n",
      "Testing R^2 score: 1.00\n",
      "\n",
      "RMSE = 2.2041782933257927 \n",
      "\n",
      "Neighbors = 14\n",
      "\n",
      "Training R^2 score: 0.98\n",
      "\n",
      "Testing R^2 score: 1.00\n",
      "\n",
      "RMSE = 2.208860748998143 \n",
      "\n",
      "Neighbors = 15\n",
      "\n",
      "Training R^2 score: 0.98\n",
      "\n",
      "Testing R^2 score: 1.00\n",
      "\n",
      "RMSE = 2.2152306809905338 \n",
      "\n",
      "Neighbors = 16\n",
      "\n",
      "Training R^2 score: 0.98\n",
      "\n",
      "Testing R^2 score: 1.00\n",
      "\n",
      "RMSE = 2.22332644054487 \n",
      "\n",
      "Neighbors = 17\n",
      "\n",
      "Training R^2 score: 0.98\n",
      "\n",
      "Testing R^2 score: 1.00\n",
      "\n",
      "RMSE = 2.228233264564824 \n",
      "\n"
     ]
    }
   ],
   "source": [
    "from sklearn.neighbors import KNeighborsRegressor\n",
    "from sklearn.metrics import mean_squared_error, r2_score\n",
    "from math import sqrt\n",
    "\n",
    "results = []\n",
    "for n in range(1,18,1):\n",
    "    res = []\n",
    "    model = KNeighborsRegressor(n_neighbors=n)\n",
    "    model.fit(X_train, y_train)\n",
    "    print ('Neighbors = %s\\n' % (int(n)))\n",
    "    # compute the R^2 score\n",
    "    accuracyscore = model.score(X_train,y_train)\n",
    "    print(\"Training R^2 score: {0:.2f}\\n\".format(model.score(X_train,y_train)))\n",
    "    # plot the model together with the data\n",
    "    xfit = X_test\n",
    "    yfit = model.predict(xfit)\n",
    "    print(\"Testing R^2 score: {0:.2f}\\n\".format(model.score(xfit,yfit)))\n",
    "    rmse = sqrt(mean_squared_error(y_test, yfit))\n",
    "    print(\"RMSE = %s \\n\" % (rmse))\n",
    "    res = [n,accuracyscore,rmse]\n",
    "    results.append(res)"
   ]
  },
  {
   "cell_type": "code",
   "execution_count": 12,
   "metadata": {},
   "outputs": [
    {
     "name": "stdout",
     "output_type": "stream",
     "text": [
      "    Kneighbors  AccScore      RMSE\n",
      "0          1.0  0.999911  2.605836\n",
      "1          2.0  0.992724  2.430276\n",
      "2          3.0  0.989437  2.320553\n",
      "3          4.0  0.987749  2.294769\n",
      "4          5.0  0.986243  2.265839\n",
      "5          6.0  0.985364  2.217849\n",
      "6          7.0  0.984661  2.213640\n",
      "7          8.0  0.984078  2.195321\n",
      "8          9.0  0.983682  2.202208\n",
      "9         10.0  0.983316  2.193945\n",
      "10        11.0  0.983014  2.202338\n",
      "11        12.0  0.982542  2.214419\n",
      "12        13.0  0.982037  2.204178\n",
      "13        14.0  0.981675  2.208861\n",
      "14        15.0  0.981296  2.215231\n",
      "15        16.0  0.981034  2.223326\n",
      "16        17.0  0.980705  2.228233\n"
     ]
    },
    {
     "data": {
      "text/plain": [
       "Text(0, 0.5, 'RMSE')"
      ]
     },
     "execution_count": 12,
     "metadata": {},
     "output_type": "execute_result"
    },
    {
     "data": {
      "image/png": "[encoded data removed]",
      "text/plain": [
       "<Figure size 432x288 with 1 Axes>"
      ]
     },
     "metadata": {
      "needs_background": "light"
     },
     "output_type": "display_data"
    }
   ],
   "source": [
    "score_array = np.asarray(results)\n",
    "\n",
    "#make a dataframe with each column named for ploting\n",
    "KNN_test_data = pd.DataFrame({'Kneighbors': score_array[:,0], 'AccScore': score_array[:,1], 'RMSE': score_array[:,2]})\n",
    "print(KNN_test_data)\n",
    "\n",
    "plt.plot(score_array[:,0],score_array[:,2])\n",
    "plt.xlabel('K number')\n",
    "plt.ylabel('RMSE')"
   ]
  },
  {
   "cell_type": "code",
   "execution_count": 17,
   "metadata": {},
   "outputs": [
    {
     "name": "stdout",
     "output_type": "stream",
     "text": [
      "Choose a number for k: 10\n",
      "Training R^2 score: 0.98\n",
      "Testing R^2 score: 1.00\n"
     ]
    }
   ],
   "source": [
    "# K values of 8 and 10 appear to show the lowest RMSE, with 10 being slightly lower.\n",
    "# We will use a K of 10, but thise code allows us to input a value to test if necessary.\n",
    "\n",
    "n  = int(input('Choose a number for k: '))\n",
    "\n",
    "#Call to the model.\n",
    "model = KNeighborsRegressor(n_neighbors=n)\n",
    "model.fit(X_train, y_train)\n",
    "\n",
    "# compute the R^2 score\n",
    "print(\"Training R^2 score: {0:.2f}\".format(model.score(X_train,y_train)))\n",
    "\n",
    "# plot the model together with the data\n",
    "xfit = X_test\n",
    "yfit = model.predict(xfit)\n",
    "print(\"Testing R^2 score: {0:.2f}\".format(model.score(xfit,yfit)))\n",
    "\n",
    "#plt.scatter(X_train[[\"theta\"]],y_train)\n",
    "#plt.scatter(xfit[[\"theta\"]], yfit,c = 'k')"
   ]
  },
  {
   "cell_type": "code",
   "execution_count": 15,
   "metadata": {},
   "outputs": [],
   "source": [
    "# plot the nitrate predictions vs the other test variable (i.e. salinity)\n",
    "# and plot the train data to compare with the model\n",
    "\n",
    "#plt.scatter(X_train[[\"sal\"]],y_train)\n",
    "#plt.scatter(xfit[[\"sal\"]], yfit,c = 'k')"
   ]
  },
  {
   "cell_type": "markdown",
   "metadata": {},
   "source": [
    "# Somewhere around here I need to load in the BCG data and compare the environmental data, etc."
   ]
  },
  {
   "cell_type": "code",
   "execution_count": 93,
   "metadata": {},
   "outputs": [],
   "source": [
    "# Reading in the Argo float data with no NO3 values\n",
    "infile = 'kuro_BGCargo_noNO3.csv'\n",
    "data_BGC = pd.read_csv(infile, sep = (','))"
   ]
  },
  {
   "cell_type": "markdown",
   "metadata": {},
   "source": [
    "data_BGC"
   ]
  },
  {
   "cell_type": "code",
   "execution_count": 96,
   "metadata": {},
   "outputs": [
    {
     "data": {
      "text/html": [
       "<div>\n",
       "<style scoped>\n",
       "    .dataframe tbody tr th:only-of-type {\n",
       "        vertical-align: middle;\n",
       "    }\n",
       "\n",
       "    .dataframe tbody tr th {\n",
       "        vertical-align: top;\n",
       "    }\n",
       "\n",
       "    .dataframe thead th {\n",
       "        text-align: right;\n",
       "    }\n",
       "</style>\n",
       "<table border=\"1\" class=\"dataframe\">\n",
       "  <thead>\n",
       "    <tr style=\"text-align: right;\">\n",
       "      <th></th>\n",
       "      <th>Date/GMT</th>\n",
       "      <th>Days since 1/1/1900</th>\n",
       "      <th>DEPTH[M]</th>\n",
       "      <th>PRESSURE[DBAR]</th>\n",
       "      <th>NA</th>\n",
       "      <th>SALINITY[PSS]</th>\n",
       "      <th>TEMPERATURE[C]</th>\n",
       "      <th>SIGMATHETA[KG/M3]</th>\n",
       "      <th>OXYGEN[uMOL/KG]</th>\n",
       "      <th>OXYGENSAT</th>\n",
       "      <th>LON</th>\n",
       "      <th>LAT</th>\n",
       "      <th>year</th>\n",
       "      <th>month</th>\n",
       "      <th>day</th>\n",
       "    </tr>\n",
       "  </thead>\n",
       "  <tbody>\n",
       "    <tr>\n",
       "      <td>0</td>\n",
       "      <td>03/02/2013 13:38</td>\n",
       "      <td>41335.568</td>\n",
       "      <td>-989.324</td>\n",
       "      <td>-999.09</td>\n",
       "      <td>3</td>\n",
       "      <td>34.3676</td>\n",
       "      <td>3.2285</td>\n",
       "      <td>27.366</td>\n",
       "      <td>35.1</td>\n",
       "      <td>10.9</td>\n",
       "      <td>148.688</td>\n",
       "      <td>36.983</td>\n",
       "      <td>2013</td>\n",
       "      <td>3</td>\n",
       "      <td>2</td>\n",
       "    </tr>\n",
       "    <tr>\n",
       "      <td>1</td>\n",
       "      <td>03/02/2013 13:38</td>\n",
       "      <td>41335.568</td>\n",
       "      <td>-941.762</td>\n",
       "      <td>-950.95</td>\n",
       "      <td>3</td>\n",
       "      <td>34.3560</td>\n",
       "      <td>3.3824</td>\n",
       "      <td>27.342</td>\n",
       "      <td>39.2</td>\n",
       "      <td>12.2</td>\n",
       "      <td>148.688</td>\n",
       "      <td>36.983</td>\n",
       "      <td>2013</td>\n",
       "      <td>3</td>\n",
       "      <td>2</td>\n",
       "    </tr>\n",
       "    <tr>\n",
       "      <td>2</td>\n",
       "      <td>03/02/2013 13:38</td>\n",
       "      <td>41335.568</td>\n",
       "      <td>-892.728</td>\n",
       "      <td>-901.33</td>\n",
       "      <td>3</td>\n",
       "      <td>34.3380</td>\n",
       "      <td>3.4966</td>\n",
       "      <td>27.316</td>\n",
       "      <td>40.2</td>\n",
       "      <td>12.6</td>\n",
       "      <td>148.688</td>\n",
       "      <td>36.983</td>\n",
       "      <td>2013</td>\n",
       "      <td>3</td>\n",
       "      <td>2</td>\n",
       "    </tr>\n",
       "    <tr>\n",
       "      <td>3</td>\n",
       "      <td>03/02/2013 13:38</td>\n",
       "      <td>41335.568</td>\n",
       "      <td>-842.920</td>\n",
       "      <td>-850.94</td>\n",
       "      <td>3</td>\n",
       "      <td>34.2972</td>\n",
       "      <td>3.4847</td>\n",
       "      <td>27.284</td>\n",
       "      <td>35.5</td>\n",
       "      <td>11.1</td>\n",
       "      <td>148.688</td>\n",
       "      <td>36.983</td>\n",
       "      <td>2013</td>\n",
       "      <td>3</td>\n",
       "      <td>2</td>\n",
       "    </tr>\n",
       "    <tr>\n",
       "      <td>4</td>\n",
       "      <td>03/02/2013 13:38</td>\n",
       "      <td>41335.568</td>\n",
       "      <td>-794.287</td>\n",
       "      <td>-801.75</td>\n",
       "      <td>3</td>\n",
       "      <td>34.2942</td>\n",
       "      <td>3.6554</td>\n",
       "      <td>27.265</td>\n",
       "      <td>38.6</td>\n",
       "      <td>12.1</td>\n",
       "      <td>148.688</td>\n",
       "      <td>36.983</td>\n",
       "      <td>2013</td>\n",
       "      <td>3</td>\n",
       "      <td>2</td>\n",
       "    </tr>\n",
       "  </tbody>\n",
       "</table>\n",
       "</div>"
      ],
      "text/plain": [
       "           Date/GMT  Days since 1/1/1900  DEPTH[M]  PRESSURE[DBAR]  NA  \\\n",
       "0  03/02/2013 13:38            41335.568  -989.324         -999.09   3   \n",
       "1  03/02/2013 13:38            41335.568  -941.762         -950.95   3   \n",
       "2  03/02/2013 13:38            41335.568  -892.728         -901.33   3   \n",
       "3  03/02/2013 13:38            41335.568  -842.920         -850.94   3   \n",
       "4  03/02/2013 13:38            41335.568  -794.287         -801.75   3   \n",
       "\n",
       "   SALINITY[PSS]  TEMPERATURE[C]  SIGMATHETA[KG/M3]  OXYGEN[uMOL/KG]  \\\n",
       "0        34.3676          3.2285             27.366             35.1   \n",
       "1        34.3560          3.3824             27.342             39.2   \n",
       "2        34.3380          3.4966             27.316             40.2   \n",
       "3        34.2972          3.4847             27.284             35.5   \n",
       "4        34.2942          3.6554             27.265             38.6   \n",
       "\n",
       "   OXYGENSAT      LON     LAT  year  month  day  \n",
       "0       10.9  148.688  36.983  2013      3    2  \n",
       "1       12.2  148.688  36.983  2013      3    2  \n",
       "2       12.6  148.688  36.983  2013      3    2  \n",
       "3       11.1  148.688  36.983  2013      3    2  \n",
       "4       12.1  148.688  36.983  2013      3    2  "
      ]
     },
     "execution_count": 96,
     "metadata": {},
     "output_type": "execute_result"
    }
   ],
   "source": [
    "# Separating the date column of BGC argo data into year month and day columns to look at seasonality compared to the jma data.\n",
    "import datetime\n",
    "\n",
    "data_BGC['year'] = pd.DatetimeIndex(data_BGC['Date/GMT']).year\n",
    "data_BGC['month'] = pd.DatetimeIndex(data_BGC['Date/GMT']).month\n",
    "data_BGC['day'] = pd.DatetimeIndex(data_BGC['Date/GMT']).day\n",
    "data_BGC.head()"
   ]
  },
  {
   "cell_type": "markdown",
   "metadata": {},
   "source": [
    "# Now that we have the unknown argo data in, we need to compare some of the geographic and environmental parameters to see if it is worth using jma data as our model data."
   ]
  },
  {
   "cell_type": "code",
   "execution_count": 100,
   "metadata": {},
   "outputs": [
    {
     "data": {
      "text/plain": [
       "<matplotlib.legend.Legend at 0x27778885308>"
      ]
     },
     "execution_count": 100,
     "metadata": {},
     "output_type": "execute_result"
    },
    {
     "data": {
      "image/png": "[encoded data removed]",
      "text/plain": [
       "<Figure size 432x288 with 1 Axes>"
      ]
     },
     "metadata": {
      "needs_background": "light"
     },
     "output_type": "display_data"
    }
   ],
   "source": [
    "plt.scatter(corr_data.lon,corr_data.lat)\n",
    "plt.scatter(data_BGC.LON,data_BGC.LAT)\n",
    "plt.title('Sample Locations')\n",
    "plt.xlabel('Longitude')\n",
    "plt.ylabel('Latitude')\n",
    "plt.legend(('JMA','BGC ARGO'), edgecolor='k', loc='lower left')"
   ]
  },
  {
   "cell_type": "markdown",
   "metadata": {},
   "source": [
    "# From this combined sample location plot, we can see that both locations overlap to some degree. It appears that both the argo data and jma data have a good line of data points from about 150 to 175 east and 30 to 41 north"
   ]
  },
  {
   "cell_type": "code",
   "execution_count": 107,
   "metadata": {},
   "outputs": [
    {
     "data": {
      "text/plain": [
       "<matplotlib.legend.Legend at 0x27778a78688>"
      ]
     },
     "execution_count": 107,
     "metadata": {},
     "output_type": "execute_result"
    },
    {
     "data": {
      "image/png": "[encoded data removed]",
      "text/plain": [
       "<Figure size 432x288 with 1 Axes>"
      ]
     },
     "metadata": {
      "needs_background": "light"
     },
     "output_type": "display_data"
    }
   ],
   "source": [
    "#Plot to look at salinity and depth comparison\n",
    "plt.scatter(corr_data.sal,-corr_data.depth)\n",
    "plt.scatter(data_BGC['SALINITY[PSS]'],data_BGC['DEPTH[M]'])\n",
    "plt.title('Salinity vs. Depth')\n",
    "plt.xlabel('Salinity(PSS)')\n",
    "plt.ylabel('Depth (m)')\n",
    "plt.legend(('JMA','BGC ARGO'), edgecolor='k', loc='lower left')"
   ]
  },
  {
   "cell_type": "markdown",
   "metadata": {},
   "source": [
    "#"
   ]
  },
  {
   "cell_type": "code",
   "execution_count": 113,
   "metadata": {},
   "outputs": [
    {
     "data": {
      "text/plain": [
       "<matplotlib.legend.Legend at 0x2777862a988>"
      ]
     },
     "execution_count": 113,
     "metadata": {},
     "output_type": "execute_result"
    },
    {
     "data": {
      "image/png": "[encoded data removed]",
      "text/plain": [
       "<Figure size 432x288 with 1 Axes>"
      ]
     },
     "metadata": {
      "needs_background": "light"
     },
     "output_type": "display_data"
    }
   ],
   "source": [
    "#Plot to look at temperature and depth comparison\n",
    "plt.scatter(corr_data.theta,-corr_data.depth)\n",
    "plt.scatter(data_BGC['TEMPERATURE[C]'],data_BGC['DEPTH[M]'])\n",
    "plt.title('Temperature vs. Depth')\n",
    "plt.xlabel('Temperature(\\N{DEGREE SIGN}C)')\n",
    "plt.ylabel('Depth (m)')\n",
    "plt.legend(('JMA','BGC ARGO'), edgecolor='k', loc='lower right')"
   ]
  },
  {
   "cell_type": "markdown",
   "metadata": {},
   "source": [
    "# "
   ]
  },
  {
   "cell_type": "code",
   "execution_count": 117,
   "metadata": {},
   "outputs": [
    {
     "data": {
      "text/plain": [
       "<matplotlib.legend.Legend at 0x27779cdea88>"
      ]
     },
     "execution_count": 117,
     "metadata": {},
     "output_type": "execute_result"
    },
    {
     "data": {
      "image/png": "[encoded data removed]",
      "text/plain": [
       "<Figure size 432x288 with 1 Axes>"
      ]
     },
     "metadata": {
      "needs_background": "light"
     },
     "output_type": "display_data"
    }
   ],
   "source": [
    "#Plot to look at density and depth comparison\n",
    "plt.scatter(corr_data.density,-corr_data.depth)\n",
    "plt.scatter(data_BGC['SIGMATHETA[KG/M3]'],data_BGC['DEPTH[M]'])\n",
    "plt.title('Density vs. Depth')\n",
    "plt.xlabel('Density(KG/m3)')\n",
    "plt.ylabel('Depth (m)')\n",
    "plt.legend(('JMA','BGC ARGO'), edgecolor='k', loc='lower left')"
   ]
  },
  {
   "cell_type": "markdown",
   "metadata": {},
   "source": [
    "#"
   ]
  },
  {
   "cell_type": "code",
   "execution_count": 134,
   "metadata": {},
   "outputs": [
    {
     "data": {
      "text/plain": [
       "Text(0, 0.5, 'Sample count')"
      ]
     },
     "execution_count": 134,
     "metadata": {},
     "output_type": "execute_result"
    },
    {
     "data": {
      "image/png": "[encoded data removed]",
      "text/plain": [
       "<Figure size 432x288 with 1 Axes>"
      ]
     },
     "metadata": {
      "needs_background": "light"
     },
     "output_type": "display_data"
    }
   ],
   "source": [
    "month = [0,12,1]\n",
    "plt.hist(corr_data.month, facecolor = \"none\", edgecolor = \"deepskyblue\", lw = 3)\n",
    "plt.hist(data_BGC['month'], facecolor = \"none\", edgecolor = \"orange\", lw = 3)\n",
    "plt.xlim([1,12])\n",
    "plt.xlabel(\"Month\")\n",
    "plt.ylabel(\"Sample count\")"
   ]
  },
  {
   "cell_type": "markdown",
   "metadata": {},
   "source": [
    "# "
   ]
  },
  {
   "cell_type": "code",
   "execution_count": null,
   "metadata": {},
   "outputs": [],
   "source": []
  }
 ],
 "metadata": {
  "kernelspec": {
   "display_name": "Python 3",
   "language": "python",
   "name": "python3"
  },
  "language_info": {
   "codemirror_mode": {
    "name": "ipython",
    "version": 3
   },
   "file_extension": ".py",
   "mimetype": "text/x-python",
   "name": "python",
   "nbconvert_exporter": "python",
   "pygments_lexer": "ipython3",
   "version": "3.7.4"
  }
 },
 "nbformat": 4,
 "nbformat_minor": 2
}
